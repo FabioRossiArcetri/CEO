{
 "cells": [
  {
   "cell_type": "markdown",
   "metadata": {},
   "source": [
    "# Shack-Hartmann Wavefront Sensor Laser Tomography"
   ]
  },
  {
   "cell_type": "code",
   "execution_count": 1,
   "metadata": {},
   "outputs": [
    {
     "name": "stdout",
     "output_type": "stream",
     "text": [
      "Populating the interactive namespace from numpy and matplotlib\n"
     ]
    }
   ],
   "source": [
    "import numpy as np\n",
    "import ceo\n",
    "%pylab inline"
   ]
  },
  {
   "cell_type": "markdown",
   "metadata": {},
   "source": [
    "A $N_L\\times N_L$ Shack-Hartmann wavefront sensor (WFS) on a $D$ diameter telescope is going to be modeled with $n_P\\times n_P$ pixels per lenslet on the detector."
   ]
  },
  {
   "cell_type": "code",
   "execution_count": 2,
   "metadata": {
    "collapsed": true
   },
   "outputs": [],
   "source": [
    "nLenslet = 60\n",
    "NA = nLenslet + 1;\n",
    "D = 25.5\n",
    "n = 6\n",
    "nPx = n*nLenslet + 1"
   ]
  },
  {
   "cell_type": "markdown",
   "metadata": {},
   "source": [
    "A arbitrary number of guide stars (GS) can be used by one WFS model, the assumption beeing that all the GS uses exactly the same WFS.\n",
    "Here the GS are randomly distributed in a 2arcmin diameter field of regard."
   ]
  },
  {
   "cell_type": "code",
   "execution_count": 3,
   "metadata": {
    "collapsed": true
   },
   "outputs": [],
   "source": [
    "nGS = 6\n",
    "gs = ceo.Source(\"K\",\n",
    "                 zenith=np.ones(nGS)*30*math.pi/180/3600,\n",
    "                 azimuth=np.linspace(0,nGS-1,nGS)*2*math.pi/nGS,\n",
    "                 height = 90e3,\n",
    "                 resolution=(nPx,nPx))\n",
    "calib_src = ceo.Source(\"K\", resolution=(nPx,nPx))"
   ]
  },
  {
   "cell_type": "markdown",
   "metadata": {},
   "source": [
    "Next the telescope pupil mask is defined and applied to the GSs."
   ]
  },
  {
   "cell_type": "code",
   "execution_count": null,
   "metadata": {
    "collapsed": true
   },
   "outputs": [],
   "source": [
    "tel = ceo.GMT(nPx,D)\n",
    "gs.masked(tel)\n",
    "calib_src.masked(tel)"
   ]
  },
  {
   "cell_type": "markdown",
   "metadata": {},
   "source": [
    "The shack-Hartmann WFS is defined with the `shackHartmann` class.\n",
    "The mandatory parameters of the class constructor are:\n",
    " - the lenslet array size $N_L$,\n",
    " - the number of pixel per lenslet in the pupil plane $n_P$ with pixels on the lenslet edges, meaning that the wavefront of the corresponding GSs must be sampled with $(N_L n_P+1) \\times (N_L n_P+1)$ pixels,\n",
    " - the lenslet pitch $d$.\n",
    " \n",
    " By default, the WFS imagelets are Nyquist sampled meaning that the default value of the discrete Fourier transform over-sampling factor is set to 2, i.e. $\\alpha\\equiv$ `DFT_osf=2`.\n",
    " The size of each imagelet is then  $\\alpha n_P \\times \\alpha n_P$.\n",
    " \n",
    " The detector framelet sizes are `N_PX_IMAGE`$\\times $ `N_PX_IMAGE` pixels each with the default value `N_PX_IMAGE` $=n_P$.\n",
    " If the imagelets are larger, they are cropped to the specified size, if they are smaller, the framelets are padded with zeros.\n",
    " \n",
    " Finally the framelets can be binned down by a factor $\\beta\\equiv$ `BIN_IMAGE` leading to a final framelet size of $${N_I\\over\\beta}\\times{N_I\\over\\beta}$$ with $N_I\\equiv$ `N_PX_IMAGE`.\n",
    " The default value of `BIN_IMAGE` is 1.\n",
    " \n",
    " The pixel scale is given by: \n",
    " $${\\beta\\lambda \\over \\alpha d}$$ \n",
    " and the lenslet field-of-view is \n",
    " $$N_I{\\lambda\\over \\alpha d}$$ \n",
    " with $\\lambda$ the wavelength.\n",
    " \n",
    " If more than on GS is assigned to the WFS, the parameter `N_GS` needs to be set."
   ]
  },
  {
   "cell_type": "code",
   "execution_count": null,
   "metadata": {},
   "outputs": [
    {
     "data": {
      "text/plain": [
       "<matplotlib.image.AxesImage at 0x7fb2d0049780>"
      ]
     },
     "execution_count": 5,
     "metadata": {},
     "output_type": "execute_result"
    }
   ],
   "source": [
    "d = D/nLenslet\n",
    "wfs = ceo.ShackHartmann(nLenslet, n, d, N_PX_IMAGE=2*(n+1))\n",
    "wfs.calibrate(calib_src,0.5)\n",
    "imshow(wfs.flux.host().T,interpolation='none')"
   ]
  },
  {
   "cell_type": "code",
   "execution_count": null,
   "metadata": {},
   "outputs": [],
   "source": [
    "px_scale = 2.179e-6/d/2\n",
    "coef_med = []\n",
    "px = arange(0,1,0.05)\n",
    "for k in px:\n",
    "    wfs.pointing(np.array(-px_scale*k,dtype=np.float32,ndmin=1),np.array(0.0,dtype=np.float32,ndmin=1))\n",
    "    wfs.reset()\n",
    "    wfs.analyze(calib_src)\n",
    "    c = wfs.c.host()\n",
    "    cx = c[0,0:int(c.size/2)]\n",
    "    m = wfs.valid_lenslet.f.host()\n",
    "    cx = cx[m.flatten()>0]\n",
    "    #print k, np.mean(cx/px_scale/k) , np.median(cx/px_scale/k)\n",
    "    coef_med.append(np.median(cx/px_scale))\n",
    "cp = np.polyfit(px, coef_med, 1)\n",
    "print(cp)\n",
    "plot(px,coef_med,px,coef_med/cp[0])\n",
    "grid()"
   ]
  },
  {
   "cell_type": "code",
   "execution_count": null,
   "metadata": {
    "collapsed": true
   },
   "outputs": [],
   "source": [
    "wfs = ceo.ShackHartmann(nLenslet, n, d, N_GS = nGS, N_PX_IMAGE=2*(n+1))\n",
    "#wfs.slopes_gain = 1.0/cp[0]"
   ]
  },
  {
   "cell_type": "markdown",
   "metadata": {},
   "source": [
    "The WFS reference slopes and valid lenslets are set with the `calibrate` method passing a `Source` object which wavefront sets the reference slopes and the lenslet intensity threshold used to discard the lenset with too litle illumination."
   ]
  },
  {
   "cell_type": "code",
   "execution_count": null,
   "metadata": {
    "collapsed": true
   },
   "outputs": [],
   "source": [
    "wfs.calibrate(gs,0.5)"
   ]
  },
  {
   "cell_type": "code",
   "execution_count": null,
   "metadata": {},
   "outputs": [],
   "source": [
    "print(wfs.valid_actuator.f.host().shape)"
   ]
  },
  {
   "cell_type": "code",
   "execution_count": null,
   "metadata": {},
   "outputs": [],
   "source": [
    "validActuator = wfs.valid_actuator\n",
    "validActuator_f = validActuator.f\n",
    "imshow(validActuator_f.host(shape=((nLenslet+1)*nGS,(nLenslet+1))).T,interpolation='None')\n",
    "validActuator_f.host_data.sum()"
   ]
  },
  {
   "cell_type": "markdown",
   "metadata": {},
   "source": [
    "The source wavefront can now be analyzed with respect to the former calibration."
   ]
  },
  {
   "cell_type": "code",
   "execution_count": null,
   "metadata": {
    "collapsed": true
   },
   "outputs": [],
   "source": [
    "wfs.analyze(gs)"
   ]
  },
  {
   "cell_type": "markdown",
   "metadata": {},
   "source": [
    "The detector frame is saved in the `cuFloatArray` object `frame`."
   ]
  },
  {
   "cell_type": "code",
   "execution_count": null,
   "metadata": {
    "collapsed": true
   },
   "outputs": [],
   "source": [
    "#figure(figsize=(12,12))\n",
    "#imshow(wfs.frame.host().transpose(),interpolation='none')"
   ]
  },
  {
   "cell_type": "markdown",
   "metadata": {},
   "source": [
    "A `Atmosphere` object is defined next and the GSs are propagated through:"
   ]
  },
  {
   "cell_type": "code",
   "execution_count": null,
   "metadata": {
    "collapsed": true
   },
   "outputs": [],
   "source": [
    "atm =ceo.GmtAtmosphere(20e-2,30)\n",
    "p = D/(nPx-1)\n",
    "atm.get_phase_screen(gs,  p, nPx, p, nPx, 0.0)"
   ]
  },
  {
   "cell_type": "code",
   "execution_count": null,
   "metadata": {
    "collapsed": true
   },
   "outputs": [],
   "source": [
    "#figure(figsize=(12,12))\n",
    "#imshow(gs.phase.host().transpose(),interpolation='none')"
   ]
  },
  {
   "cell_type": "markdown",
   "metadata": {},
   "source": [
    "The WFS detector need to be reset before proceeding with a new wavefront analysis."
   ]
  },
  {
   "cell_type": "code",
   "execution_count": null,
   "metadata": {
    "collapsed": true
   },
   "outputs": [],
   "source": [
    "wfs.reset()\n",
    "wfs.analyze(gs)"
   ]
  },
  {
   "cell_type": "code",
   "execution_count": null,
   "metadata": {
    "collapsed": true
   },
   "outputs": [],
   "source": [
    "#figure(figsize=(12,12))\n",
    "#imshow(wfs.frame.host().transpose(),interpolation='none')"
   ]
  },
  {
   "cell_type": "markdown",
   "metadata": {},
   "source": [
    "The WFS centroids are accessible through the `cuFloatArray` object `c`."
   ]
  },
  {
   "cell_type": "code",
   "execution_count": null,
   "metadata": {
    "collapsed": true
   },
   "outputs": [],
   "source": [
    "#figure(figsize=(12,12))\n",
    "#imshow(wfs.c.host().reshape(2*nLenslet*nGS\n",
    "#                            ,nLenslet).transpose(),interpolation='none')\n",
    "#colorbar()"
   ]
  },
  {
   "cell_type": "code",
   "execution_count": null,
   "metadata": {
    "collapsed": true
   },
   "outputs": [],
   "source": [
    "src = ceo.Source(\"K\",resolution=(NA,NA))\n",
    "src.masked(validActuator)"
   ]
  },
  {
   "cell_type": "code",
   "execution_count": null,
   "metadata": {
    "collapsed": true
   },
   "outputs": [],
   "source": [
    "lmmse = ceo.LmmseSH(atm,gs,src,wfs,\"MINRES\")"
   ]
  },
  {
   "cell_type": "code",
   "execution_count": null,
   "metadata": {
    "collapsed": true
   },
   "outputs": [],
   "source": [
    "lmmse.estimation(wfs)"
   ]
  },
  {
   "cell_type": "code",
   "execution_count": null,
   "metadata": {},
   "outputs": [],
   "source": [
    "lmmse_phase = lmmse.phase\n",
    "mask_actuator = validActuator_f.host_data[0:nLenslet+1,:]\n",
    "imshow(lmmse_phase.host(units='micron',zm=True,mask=mask_actuator),interpolation='none')\n",
    "colorbar()"
   ]
  },
  {
   "cell_type": "code",
   "execution_count": null,
   "metadata": {
    "collapsed": true
   },
   "outputs": [],
   "source": [
    "atm.get_phase_screen(src,d,NA,d,NA,0.0)"
   ]
  },
  {
   "cell_type": "code",
   "execution_count": null,
   "metadata": {},
   "outputs": [],
   "source": [
    "src_phase = src.phase\n",
    "ps_e = src_phase.host(units='micron',zm=True,mask=mask_actuator) - \\\n",
    "    lmmse_phase.host(units='micron',zm=True,mask=mask_actuator)\n",
    "wfe_rms = np.std(ps_e[mask_actuator!=0])*1e3\n",
    "print(\"wavefront error: %6.2fnm\" % wfe_rms)\n",
    "imshow(np.concatenate((src_phase.host_data,lmmse_phase.host_data),axis=1),interpolation='none')\n",
    "colorbar()"
   ]
  },
  {
   "cell_type": "code",
   "execution_count": null,
   "metadata": {},
   "outputs": [],
   "source": [
    "imshow(ps_e*1e3,interpolation='None')\n",
    "colorbar()"
   ]
  },
  {
   "cell_type": "code",
   "execution_count": null,
   "metadata": {},
   "outputs": [],
   "source": [
    "np.exp(-(2*math.pi*wfe_rms/2.2e3)**2)"
   ]
  },
  {
   "cell_type": "code",
   "execution_count": null,
   "metadata": {
    "collapsed": true
   },
   "outputs": [],
   "source": []
  }
 ],
 "metadata": {
  "kernelspec": {
   "display_name": "Python 3",
   "language": "python",
   "name": "python3"
  },
  "language_info": {
   "codemirror_mode": {
    "name": "ipython",
    "version": 3
   },
   "file_extension": ".py",
   "mimetype": "text/x-python",
   "name": "python",
   "nbconvert_exporter": "python",
   "pygments_lexer": "ipython3",
   "version": "3.6.3"
  }
 },
 "nbformat": 4,
 "nbformat_minor": 1
}
