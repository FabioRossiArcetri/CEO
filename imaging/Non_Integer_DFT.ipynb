{
 "cells": [
  {
   "cell_type": "code",
   "execution_count": 1,
   "metadata": {},
   "outputs": [],
   "source": [
    "# MVD: test the changes made to CEO to allow the use of non integer DFT_osf values\n",
    "import sys\n",
    "import ceo\n",
    "import numpy as np\n",
    "import cupy as cp\n",
    "import scipy\n",
    "#import aotools\n",
    "import matplotlib.pyplot as plt\n",
    "import time\n",
    "%matplotlib inline"
   ]
  },
  {
   "cell_type": "code",
   "execution_count": 5,
   "metadata": {},
   "outputs": [
    {
     "name": "stdout",
     "output_type": "stream",
     "text": [
      "0.004406382347421377\n"
     ]
    },
    {
     "data": {
      "image/png": "[encoded data removed]",
      "text/plain": [
       "<Figure size 432x288 with 1 Axes>"
      ]
     },
     "metadata": {
      "needs_background": "light"
     },
     "output_type": "display_data"
    }
   ],
   "source": [
    "D = 25.5 # diameter of the pupil\n",
    "NT = 128 # total number of pixels across the pupil\n",
    "gmt = ceo.GMT_MX()\n",
    "gmt.M2_baffle = 3.5\n",
    "gmt.project_truss_onaxis = False\n",
    "\n",
    "src = ceo.Source(\"K\",zenith=[0.],azimuth=[0.],magnitude=[0.],rays_box_size=D,rays_box_sampling=NT+1,rays_origin=[0,0,25])\n",
    "imgr = ceo.Imaging(N_SIDE_LENSLET=1,N_PX_PUPIL=NT,DFT_osf=4,N_SOURCE=1,N_PX_IMAGE=32)\n",
    "\n",
    "~gmt\n",
    "~src\n",
    "~imgr\n",
    "gmt.propagate(src)\n",
    "imgr.propagate(src)\n",
    "\n",
    "img = np.array(imgr.frame.host())\n",
    "img /= np.sum(img)\n",
    "\n",
    "plt.figure(1)\n",
    "plt.clf()\n",
    "plt.imshow(img**0.5)\n",
    "\n",
    "print(imgr.pixelScaleArcsec(src))"
   ]
  },
  {
   "cell_type": "code",
   "execution_count": 7,
   "metadata": {},
   "outputs": [
    {
     "name": "stdout",
     "output_type": "stream",
     "text": [
      "0.005035865435224459\n"
     ]
    },
    {
     "data": {
      "image/png": "[encoded data removed]",
      "text/plain": [
       "<Figure size 432x288 with 1 Axes>"
      ]
     },
     "metadata": {
      "needs_background": "light"
     },
     "output_type": "display_data"
    }
   ],
   "source": [
    "imgr2 = ceo.Imaging(N_SIDE_LENSLET=1,N_PX_PUPIL=NT,DFT_osf=3.5,N_SOURCE=1,N_PX_IMAGE=32)\n",
    "\n",
    "~gmt\n",
    "~src\n",
    "~imgr2\n",
    "gmt.propagate(src)\n",
    "imgr2.propagate(src)\n",
    "\n",
    "img2 = np.array(imgr2.frame.host())\n",
    "img2 /= np.sum(img2)\n",
    "\n",
    "plt.figure(2)\n",
    "plt.clf()\n",
    "plt.imshow(img2**0.5)\n",
    "\n",
    "print(imgr2.pixelScaleArcsec(src))"
   ]
  },
  {
   "cell_type": "code",
   "execution_count": 8,
   "metadata": {},
   "outputs": [
    {
     "data": {
      "text/plain": [
       "0.005035865539910145"
      ]
     },
     "execution_count": 8,
     "metadata": {},
     "output_type": "execute_result"
    }
   ],
   "source": [
    "0.004406382347421377*4/3.5"
   ]
  },
  {
   "cell_type": "code",
   "execution_count": null,
   "metadata": {},
   "outputs": [],
   "source": []
  }
 ],
 "metadata": {
  "kernelspec": {
   "display_name": "Python 3",
   "language": "python",
   "name": "python3"
  },
  "language_info": {
   "codemirror_mode": {
    "name": "ipython",
    "version": 3
   },
   "file_extension": ".py",
   "mimetype": "text/x-python",
   "name": "python",
   "nbconvert_exporter": "python",
   "pygments_lexer": "ipython3",
   "version": "3.8.3"
  }
 },
 "nbformat": 4,
 "nbformat_minor": 4
}
